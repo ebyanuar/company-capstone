{
 "cells": [
  {
   "cell_type": "code",
   "execution_count": null,
   "id": "2dde444d",
   "metadata": {},
   "outputs": [],
   "source": []
  },
  {
   "cell_type": "code",
   "execution_count": null,
   "id": "9bf7c240",
   "metadata": {},
   "outputs": [],
   "source": []
  },
  {
   "cell_type": "code",
   "execution_count": null,
   "id": "88fc2b51",
   "metadata": {},
   "outputs": [],
   "source": []
  },
  {
   "cell_type": "code",
   "execution_count": null,
   "id": "4f5e02fd",
   "metadata": {},
   "outputs": [],
   "source": []
  },
  {
   "cell_type": "code",
   "execution_count": 3,
   "id": "cd3d0e7b",
   "metadata": {},
   "outputs": [
    {
     "name": "stdout",
     "output_type": "stream",
     "text": [
      " * Serving Flask app \"__main__\" (lazy loading)\n",
      " * Environment: production\n",
      "\u001b[31m   WARNING: This is a development server. Do not use it in a production deployment.\u001b[0m\n",
      "\u001b[2m   Use a production WSGI server instead.\u001b[0m\n",
      " * Debug mode: off\n"
     ]
    },
    {
     "name": "stderr",
     "output_type": "stream",
     "text": [
      " * Running on http://127.0.0.1:5000/ (Press CTRL+C to quit)\n",
      "127.0.0.1 - - [03/Jun/2022 23:41:02] \"GET / HTTP/1.1\" 200 -\n",
      "127.0.0.1 - - [03/Jun/2022 23:41:32] \"GET /current?key=8ad9eca88a2e4330a022ad816a7d9886 HTTP/1.1\" 200 -\n"
     ]
    }
   ],
   "source": [
    "from flask import Flask, request, jsonify\n",
    "from tensorflow.keras.models import load_model\n",
    "from sklearn.preprocessing import MinMaxScaler, StandardScaler\n",
    "from colect import data_by_city, data_by_location\n",
    "from list_to_dict import list_to_dict\n",
    "from current_aqi import current_aqi_prov\n",
    "\n",
    "app = Flask(__name__)\n",
    "  \n",
    "# load model\n",
    "model = load_model(\"Model/lstm_6_3_e50/my_model.h5\")\n",
    "\n",
    "@app.route(\"/\")\n",
    "def index():\n",
    "  return \"Welcome to Airmonitor Forecast APIs\"\n",
    "\n",
    "# /by_city?city=Jakarta&key=8ad9eca88a2e4330a022ad816a7d9886\n",
    "@app.route(\"/by_city\")\n",
    "def by_city():\n",
    "  kota = request.args.get('city', default = \"Jakarta\", type = str)\n",
    "  weatherbit_key = request.args.get('key', default = \"8ad9eca88a2e4330a022ad816a7d9886\", type = str)\n",
    "  # collect data\n",
    "  a = data_by_city(kota, weatherbit_key)\n",
    "\n",
    "  # scaling and reshape\n",
    "  scaler = MinMaxScaler()\n",
    "  data = scaler.fit_transform(a)\n",
    "  data = data.reshape(1,6,7)\n",
    "\n",
    "  # predictions\n",
    "  predictions = model.predict(data)\n",
    "  predictions = predictions.reshape(3,7)\n",
    "  predictions = scaler.inverse_transform(predictions)\n",
    "  predictions = predictions.tolist()\n",
    "  predictions = list_to_dict(predictions)\n",
    "  \n",
    "  # history last 3 hour\n",
    "  history = a[:3]\n",
    "  history = history.values.tolist()\n",
    "  history = list_to_dict(history)\n",
    "\n",
    "  #return f'{predictions}'\n",
    "  return f\"forecast for the next 3 hours in {kota} is \\n\\n\\n {predictions} \\n\\n\\n history last 3 hours is {history}\"\n",
    "\n",
    "# /by_location?lat=35&lon=-78&key=8ad9eca88a2e4330a022ad816a7d9886\n",
    "@app.route(\"/by_location\")\n",
    "def by_location():\n",
    "  lat = request.args.get('lat', default = 35, type = float)\n",
    "  lon = request.args.get('lon', default = -78, type = float)\n",
    "  weatherbit_key = request.args.get('key', default = \"8ad9eca88a2e4330a022ad816a7d9886\", type = str)\n",
    "\n",
    "  # collect data\n",
    "  a = data_by_location(lat, lon, weatherbit_key)\n",
    "\n",
    "  # scaling and reshape\n",
    "  scaler = MinMaxScaler()\n",
    "  data = scaler.fit_transform(a)\n",
    "  data = data.reshape(1,6,7)\n",
    "\n",
    "  # predictions\n",
    "  predictions = model.predict(data)\n",
    "  predictions = predictions.reshape(3,7)\n",
    "  predictions = scaler.inverse_transform(predictions)\n",
    "  predictions = predictions.tolist()\n",
    "  predictions = list_to_dict(predictions)\n",
    "  \n",
    "  # history last 3 hour\n",
    "  history = a[:3]\n",
    "  history = history.values.tolist()\n",
    "  history = list_to_dict(history)\n",
    "\n",
    "  #return jsonify(predictions)\n",
    "  return f\"forecast for the next 3 hours in lat {lat}is \\n\\n\\n {predictions} \\n\\n\\n history last 3 hours is {history}\"\n",
    "\n",
    "# /current?key=8ad9eca88a2e4330a022ad816a7d9886\n",
    "@app.route(\"/current\")\n",
    "def current():\n",
    "  weatherbit_key = request.args.get('key', default = \"8ad9eca88a2e4330a022ad816a7d9886\", type = str)\n",
    "\n",
    "  data = current_aqi_prov(weatherbit_key)\n",
    "  #data = list_to_dict(data)\n",
    "    \n",
    "  return f'{data}'\n",
    "\n",
    "if __name__ == \"__main__\":\n",
    "    app.run(host='127.0.0.1', port=5000)\n"
   ]
  },
  {
   "cell_type": "code",
   "execution_count": null,
   "id": "7eb96906",
   "metadata": {},
   "outputs": [],
   "source": []
  },
  {
   "cell_type": "code",
   "execution_count": null,
   "id": "cdaadbf6",
   "metadata": {},
   "outputs": [],
   "source": []
  }
 ],
 "metadata": {
  "kernelspec": {
   "display_name": "Python 3 (ipykernel)",
   "language": "python",
   "name": "python3"
  },
  "language_info": {
   "codemirror_mode": {
    "name": "ipython",
    "version": 3
   },
   "file_extension": ".py",
   "mimetype": "text/x-python",
   "name": "python",
   "nbconvert_exporter": "python",
   "pygments_lexer": "ipython3",
   "version": "3.9.7"
  }
 },
 "nbformat": 4,
 "nbformat_minor": 5
}
